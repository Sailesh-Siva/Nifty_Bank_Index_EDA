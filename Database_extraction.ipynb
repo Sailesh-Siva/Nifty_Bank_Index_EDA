{
 "cells": [
  {
   "cell_type": "code",
   "execution_count": 1,
   "id": "fcaf120f-2ded-41b8-8e01-7a4482ce0025",
   "metadata": {},
   "outputs": [],
   "source": [
    "import yfinance as yf\n",
    "import pandas as pd\n",
    "from tabulate import tabulate\n",
    "import matplotlib.pyplot as plt\n",
    "import seaborn as sns\n",
    "import numpy as np"
   ]
  },
  {
   "cell_type": "code",
   "execution_count": 5,
   "id": "f1548c29-3c02-4e84-9005-bb44f4e44f1f",
   "metadata": {},
   "outputs": [
    {
     "name": "stderr",
     "output_type": "stream",
     "text": [
      "[*********************100%***********************]  1 of 1 completed\n",
      "[*********************100%***********************]  1 of 1 completed\n",
      "[*********************100%***********************]  1 of 1 completed\n",
      "[*********************100%***********************]  1 of 1 completed\n",
      "[*********************100%***********************]  1 of 1 completed\n",
      "[*********************100%***********************]  1 of 1 completed\n",
      "[*********************100%***********************]  1 of 1 completed\n",
      "[*********************100%***********************]  1 of 1 completed\n",
      "[*********************100%***********************]  1 of 1 completed\n",
      "[*********************100%***********************]  1 of 1 completed\n",
      "[*********************100%***********************]  1 of 1 completed\n",
      "[*********************100%***********************]  1 of 1 completed"
     ]
    },
    {
     "name": "stdout",
     "output_type": "stream",
     "text": [
      "All data saved to individual_bank_data.csv\n"
     ]
    },
    {
     "name": "stderr",
     "output_type": "stream",
     "text": [
      "\n"
     ]
    }
   ],
   "source": [
    "import yfinance as yf\n",
    "import pandas as pd\n",
    "\n",
    "# List of bank stocks and Nifty Bank index\n",
    "tickers = {\n",
    "    'HDFC Bank': 'HDFCBANK.BO',\n",
    "    'ICICI Bank': 'ICICIBANK.BO',\n",
    "    'State Bank of India': 'SBIN.BO',\n",
    "    'Axis Bank': 'AXISBANK.BO',\n",
    "    'Kotak Bank': 'KOTAKBANK.BO',\n",
    "    'Bank of Baroda': 'BANKBARODA.BO',\n",
    "    'Punjab National Bank': 'PNB.BO',\n",
    "    'IndusInd Bank': 'INDUSINDBK.BO',\n",
    "    'IDFC First Bank': 'IDFCFIRSTB.BO',\n",
    "    'AU Small Finance Bank': 'AUBANK.BO',\n",
    "    'Federal Bank': 'FEDERALBNK.BO',\n",
    "    'Bandhan Bank': 'BANDHANBNK.BO'\n",
    "}\n",
    "\n",
    "# Initialize an empty list to store individual DataFrames\n",
    "all_data = []\n",
    "\n",
    "# Fetch historical data and append to the list\n",
    "for name, ticker in tickers.items():\n",
    "    # Download historical data\n",
    "    stock_data = yf.download(ticker, start='2023-01-01', end='2024-01-01')  # Adjust period as needed\n",
    "    \n",
    "    # Add a column to identify the stock/index\n",
    "    stock_data['Index'] = name\n",
    "    \n",
    "    # Reset index to get Date as a column\n",
    "    stock_data.reset_index(inplace=True)\n",
    "    \n",
    "    # Select only the required columns\n",
    "    stock_data = stock_data[['Date','Index', 'Open', 'High', 'Low', 'Close']]\n",
    "    \n",
    "    # Append the data to the list\n",
    "    all_data.append(stock_data)\n",
    "\n",
    "# Concatenate all DataFrames into one\n",
    "combined_data = pd.concat(all_data)\n",
    "\n",
    "# Save the combined data to a CSV file\n",
    "combined_data.to_csv('individual_bank_data.csv', index=False)\n",
    "\n",
    "print(\"All data saved to individual_bank_data.csv\")\n"
   ]
  },
  {
   "cell_type": "code",
   "execution_count": 8,
   "id": "9453441f-ac2c-493e-9b0b-24df7378a19f",
   "metadata": {},
   "outputs": [
    {
     "name": "stderr",
     "output_type": "stream",
     "text": [
      "[*********************100%***********************]  1 of 1 completed"
     ]
    },
    {
     "name": "stdout",
     "output_type": "stream",
     "text": [
      "All data saved to nifty_bank_data.csv\n"
     ]
    },
    {
     "name": "stderr",
     "output_type": "stream",
     "text": [
      "\n"
     ]
    }
   ],
   "source": [
    "import yfinance as yf\n",
    "import pandas as pd\n",
    "\n",
    "# List of bank stocks and Nifty Bank index\n",
    "tickers = {\n",
    "    'Nifty Bank Index': '^NSEBANK',\n",
    "}\n",
    "\n",
    "# Initialize an empty list to store individual DataFrames\n",
    "all_data = []\n",
    "\n",
    "# Fetch historical data and append to the list\n",
    "for name, ticker in tickers.items():\n",
    "    # Download historical data\n",
    "    stock_data = yf.download(ticker, start='2023-01-01', end='2024-01-01')  # Adjust period as needed\n",
    "    \n",
    "    # Add a column to identify the stock/index\n",
    "    stock_data['Index'] = name\n",
    "    \n",
    "    # Reset index to get Date as a column\n",
    "    stock_data.reset_index(inplace=True)\n",
    "    \n",
    "    # Select only the required columns\n",
    "    stock_data = stock_data[['Date','Index', 'Open', 'High', 'Low', 'Close']]\n",
    "    \n",
    "    # Append the data to the list\n",
    "    all_data.append(stock_data)\n",
    "\n",
    "# Concatenate all DataFrames into one\n",
    "combined_data = pd.concat(all_data)\n",
    "\n",
    "# Save the combined data to a CSV file\n",
    "combined_data.to_csv('nifty_bank_data.csv', index=False)\n",
    "\n",
    "print(\"All data saved to nifty_bank_data.csv\")"
   ]
  },
  {
   "cell_type": "code",
   "execution_count": 1,
   "id": "25c88bed-e7cf-4011-96a0-55d90204bf8c",
   "metadata": {},
   "outputs": [
    {
     "name": "stderr",
     "output_type": "stream",
     "text": [
      "[*********************100%***********************]  1 of 1 completed\n",
      "[*********************100%***********************]  1 of 1 completed\n",
      "[*********************100%***********************]  1 of 1 completed\n",
      "[*********************100%***********************]  1 of 1 completed\n",
      "[*********************100%***********************]  1 of 1 completed\n",
      "[*********************100%***********************]  1 of 1 completed\n",
      "[*********************100%***********************]  1 of 1 completed\n",
      "[*********************100%***********************]  1 of 1 completed\n",
      "[*********************100%***********************]  1 of 1 completed\n",
      "[*********************100%***********************]  1 of 1 completed\n",
      "[*********************100%***********************]  1 of 1 completed\n",
      "[*********************100%***********************]  1 of 1 completed\n",
      "[*********************100%***********************]  1 of 1 completed"
     ]
    },
    {
     "name": "stdout",
     "output_type": "stream",
     "text": [
      "All data saved to combined_bank_data.csv\n"
     ]
    },
    {
     "name": "stderr",
     "output_type": "stream",
     "text": [
      "\n"
     ]
    }
   ],
   "source": [
    "import yfinance as yf\n",
    "import pandas as pd\n",
    "\n",
    "# List of bank stocks and Nifty Bank index\n",
    "tickers = {\n",
    "    'Nifty Bank Index': '^NSEBANK',\n",
    "    'HDFC Bank': 'HDFCBANK.BO',\n",
    "    'ICICI Bank': 'ICICIBANK.BO',\n",
    "    'State Bank of India': 'SBIN.BO',\n",
    "    'Axis Bank': 'AXISBANK.BO',\n",
    "    'Kotak Bank': 'KOTAKBANK.BO',\n",
    "    'Bank of Baroda': 'BANKBARODA.BO',\n",
    "    'Punjab National Bank': 'PNB.BO',\n",
    "    'IndusInd Bank': 'INDUSINDBK.BO',\n",
    "    'IDFC First Bank': 'IDFCFIRSTB.BO',\n",
    "    'AU Small Finance Bank': 'AUBANK.BO',\n",
    "    'Federal Bank': 'FEDERALBNK.BO',\n",
    "    'Bandhan Bank': 'BANDHANBNK.BO'\n",
    "}\n",
    "\n",
    "# Initialize an empty list to store individual DataFrames\n",
    "all_data = []\n",
    "\n",
    "# Fetch historical data and append to the list\n",
    "for name, ticker in tickers.items():\n",
    "    # Download historical data\n",
    "    stock_data = yf.download(ticker, start='2023-01-01', end='2024-01-01')  # Adjust period as needed\n",
    "    \n",
    "    # Add a column to identify the stock/index\n",
    "    stock_data['Index'] = name\n",
    "    \n",
    "    # Reset index to get Date as a column\n",
    "    stock_data.reset_index(inplace=True)\n",
    "    \n",
    "    # Select only the required columns\n",
    "    stock_data = stock_data[['Date','Index', 'Open', 'High', 'Low', 'Close']]\n",
    "    \n",
    "    # Append the data to the list\n",
    "    all_data.append(stock_data)\n",
    "\n",
    "# Concatenate all DataFrames into one\n",
    "combined_data = pd.concat(all_data)\n",
    "\n",
    "# Save the combined data to a CSV file\n",
    "combined_data.to_csv('combined_bank_data.csv', index=False)\n",
    "\n",
    "print(\"All data saved to combined_bank_data.csv\")\n"
   ]
  },
  {
   "cell_type": "code",
   "execution_count": null,
   "id": "7ff66978-4602-4ae9-8147-41d1111da8b2",
   "metadata": {},
   "outputs": [],
   "source": []
  }
 ],
 "metadata": {
  "kernelspec": {
   "display_name": "Python 3 (ipykernel)",
   "language": "python",
   "name": "python3"
  },
  "language_info": {
   "codemirror_mode": {
    "name": "ipython",
    "version": 3
   },
   "file_extension": ".py",
   "mimetype": "text/x-python",
   "name": "python",
   "nbconvert_exporter": "python",
   "pygments_lexer": "ipython3",
   "version": "3.11.9"
  }
 },
 "nbformat": 4,
 "nbformat_minor": 5
}
